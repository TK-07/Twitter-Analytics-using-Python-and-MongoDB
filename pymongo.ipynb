{
 "cells": [
  {
   "cell_type": "code",
   "execution_count": 33,
   "metadata": {},
   "outputs": [],
   "source": [
    "import pymongo\n",
    "import pandas as pd\n",
    "import json\n",
    "import csv\n",
    "from pymongo import MongoClient\n",
    "\n",
    "\n",
    "csvpath='twitter2.csv'\n",
    "jsonpath='twitter.json'\n",
    "\n",
    "data={}\n",
    "\n",
    "with open(csvpath,encoding='utf-8') as csvfile:\n",
    "    csvReader=csv.DictReader(csvfile)\n",
    "    for i in csvReader:\n",
    "        id=i['TweetId']\n",
    "        data[id]=i\n",
    "\n",
    "with open(jsonpath,'w') as jsonfile:\n",
    "    jsonfile.write(json.dumps(data,indent=3))\n"
   ]
  },
  {
   "cell_type": "code",
   "execution_count": 37,
   "metadata": {},
   "outputs": [],
   "source": [
    "client=pymongo.MongoClient('mongodb://127.0.0.1:27017/')\n",
    "mydb=client['Twitter1']\n",
    "collection=mydb.tweets\n",
    "\n",
    "with open('twitter.json') as file:\n",
    "    file_data = json.load(file)\n",
    "    \n",
    "if isinstance(file_data, list):\n",
    "    collection.insert_many(file_data)  \n",
    "else:\n",
    "    collection.insert_one(file_data)"
   ]
  },
  {
   "cell_type": "code",
   "execution_count": 38,
   "metadata": {},
   "outputs": [
    {
     "name": "stdout",
     "output_type": "stream",
     "text": [
      "{'_id': ObjectId('60af7644db2f54593f2ba775'), 'TweetId': '\"1233417783175778304\"', 'TweetURL': 'https://twitter.com/Giussi92/status/1233417783175778304', 'TweetPostedTime': '28-02-2020 15:44', 'Tweet': 'Also the entire Swiss Football League is on hold. Postponing games from the professional and amateur level... #coronavirus https://t.co/UShMuqnAVC', 'Type': 'Tweet', 'Client': 'Twitter for iPhone', 'Retweets': '0', 'Likes': '0', 'Location': '', 'Lat': '', 'Long': '', 'Language': 'English', 'UserId': '\"1556856595\"', 'Name': 'Giuseppe Gentile', 'Screen Name': 'Giussi92', 'User Bio': '', 'Verified or Non-Verified': 'Verified', 'Profile URL': 'https://twitter.com/Giussi92', 'Protection': 'Non-Protected', 'Followers': '3071', 'Following': '100', 'CreationDate': '30-06-2013 00:27'}\n"
     ]
    }
   ],
   "source": [
    "print(collection.find_one())"
   ]
  },
  {
   "cell_type": "code",
   "execution_count": 39,
   "metadata": {},
   "outputs": [
    {
     "name": "stdout",
     "output_type": "stream",
     "text": [
      "_id\n",
      "TweetId\n",
      "TweetURL\n",
      "TweetPostedTime\n",
      "Tweet\n",
      "Type\n",
      "Client\n",
      "Retweets\n",
      "Likes\n",
      "Location\n",
      "Lat\n",
      "Long\n",
      "Language\n",
      "UserId\n",
      "Name\n",
      "Screen Name\n",
      "User Bio\n",
      "Verified or Non-Verified\n",
      "Profile URL\n",
      "Protection\n",
      "Followers\n",
      "Following\n",
      "CreationDate\n"
     ]
    }
   ],
   "source": [
    "r=collection.find_one()\n",
    "for i in r:\n",
    "    print(i)"
   ]
  },
  {
   "cell_type": "code",
   "execution_count": 65,
   "metadata": {},
   "outputs": [
    {
     "name": "stdout",
     "output_type": "stream",
     "text": [
      "\"1233417783175778304\" Giuseppe Gentile Also the entire Swiss Football League is on hold. Postponing games from the professional and amateur level... #coronavirus https://t.co/UShMuqnAVC \n",
      "\n",
      "\"1233417742520332290\" London After Midnight World Health Org Official: Trump’s press conference on #coronavirus ‘incoherent’\n",
      "World Health Organization Special Adviser to the Director Dr. Ezekiel Emanuel says \"I found most of what [Trump] said incoherent.\"\n",
      "https://t.co/v4WIBW9Fld \n",
      "\n",
      "\"1233417741027225602\" Bill Mitchell I mean, Liberals are cheer-leading this #Coronavirus like it's their high school football team.\n",
      "\n",
      "#TDS \n",
      "\n",
      "\"1233417699264356357\" Helen Kennedy Under repeated questioning, Pompeo refuses to say the #COVID19 coronavirus is not a hoax.  https://t.co/PFESx4ePpD \n",
      "\n",
      "\"1233417674274807808\" Steve Herman #coronavirus comments now from @larry_kudlow here. https://t.co/l45e8bUmBK \n",
      "\n",
      "\"1233417552518426624\" QuickTake by Bloomberg \"Are you going to see some schools shut down? Probably.\"\n",
      "\n",
      "White House Chief of Staff Mick Mulvaney warned that the #coronavirus could disrupt U.S. schools as districts prepare their emergency plans https://t.co/qADzyHNG4L \n",
      "\n",
      "\"1233417416123834369\" Global Health Strategies “Disease can emerge everywhere. Coronaviruses exist on a global basis. It’s important that we don’t ascribe blame to a geographic origin...the languge of stigma &amp; blame has become an unfortunate part of the global narrative\" -@DrMikeRyan at @WHO briefing on #COVID19. #coronavirus https://t.co/4IIvbTdN9j \n",
      "\n",
      "\"1233417357290360833\" QuickTake by Bloomberg “When the virus hit, I felt that I should stay to help.”\n",
      "\n",
      "@selinawangtv connected with Li Wang. She’s part of a special force under China’s Uber @DidiGlobal that's helping those stranded by the #coronavirus lockdown in #Wuhan #COVID2019 #新型肺炎 https://t.co/CE5INLRC95 \n",
      "\n",
      "\"1233417335840661507\" NBC News World NEW: WHO says it has increased its assessment of “the risk of spread and the risk of impact” of the coronavirus “to very high at a global level.” #COVID19 \n",
      "\n",
      "https://t.co/dzmpKLK9mZ \n",
      "\n",
      "\"1233417318144860165\" Radio Pakistan President's public awareness message about #Coronavirus https://t.co/Qt2WFGqv5R https://t.co/pbafF9qVyy \n",
      "\n",
      "\"1233417160367779841\" Mia Farrow Harvard epidemiology professor Marc Lipsitch: “I think the likely outcome is that it will ultimately not be containable.” #Coronavirus - The Atlantic https://t.co/hJVGqdsihO \n",
      "\n",
      "\"1233417154852216833\" Summit County Health - Utah The Summit County Health Department has issued the following statement about the #Coronavirus #COVID19 Outbreak: https://t.co/maWQ4Adb4u\n",
      "\n",
      "There are NO confirmed cases in Summit County or Utah.\n",
      "#SummitCountyUT #ParkCity #Coalville #Kamas https://t.co/Cg3VtMjO2R \n",
      "\n",
      "\"1233417123474571264\" SIGNAL Italian-Nigerian Footballer King Udoh, Contracts #Coronavirus https://t.co/j67qRSIX13 https://t.co/ofN8g8QrSN \n",
      "\n",
      "\"1233417103366950914\" News18 #CoronavirusOutbreak | We are at a stage now that every country needs to be prepared. San Francisco has declared an emergency without a single case being reported: Dr. K.K. Aggarwal (Sr member of the Indian Medical Association) tells @AnchorAnandN on #TheRightStand\n",
      "\n",
      "#COVID19 https://t.co/wA4KUn8AuF \n",
      "\n",
      "\"1233417095687393280\" Catherine Gasté #Coronavirus outbreak: World Health Organization gives latest update on virus . Conférence de l’OMS | LIVE https://t.co/C6SunFRpyS \n",
      "\n",
      "\"1233417078389886978\" DT Next Apart from that, several notifications were issued on how one could be affected by coronavirus, what the symptoms were and which preventive measures could be adopted.\n",
      "#India #Coronavirus\n",
      "\n",
      "https://t.co/AkUIJlCZNt \n",
      "\n",
      "\"1233417047607934978\" newslaundry Your #DailyDose of news has arrived!\n",
      "\n",
      "@Memeghnad brings you the latest updates about #Delhi smoulders, #Coronavirus scare, new mini-moon, and more.\n",
      "\n",
      "Listen up!\n",
      "\n",
      "https://t.co/htwPR8dUm2 \n",
      "\n",
      "\"1233417036530888704\" Texas Juvenile Justice To keep up with the latest news about #coronavirus #COVID2019, visit @TexasDSHS where you'll find everything you need to know.\n",
      "\n",
      "https://t.co/yqNjHAYE3C \n",
      "\n",
      "\"1233416930381320198\" ANI World Health Organisation (WHO): Our epidemiologists have been monitoring the developments continuously, and we have now increased our assessment of the risk of spread and the risk of impact of #COVID19 to very high at a global level. #coronavirus https://t.co/yQrUvXIRpL \n",
      "\n",
      "\"1233416899825819648\" GMA News JUST IN: World Health Organization (WHO) upgrades global risk of #coronavirus spread to 'very high' | via @AFP https://t.co/IjKMPEie9k \n",
      "\n",
      "\"1233416885720567809\" Sahara Reporters #Coronavirus: This Is Not Time To Fear, Says @WHO | Sahara Reporters \n",
      "Nigeria recorded its first case on Friday in a patient, who recently returned from Italy, one of the countries worst hit by the infection apart from China. @WHOAFRO \n",
      "READ MORE: https://t.co/wnAgDku1ew https://t.co/979IfuL7MN \n",
      "\n",
      "\"1233416881857540098\" Rep. John Yarmuth A reminder to follow all @CDCGov precautions regarding respiratory diseases as we continue to monitor #COVID19. Stay updated and informed here: https://t.co/yjHYbIVWCc \n",
      "\n",
      "\"1233416780028100608\" Global Times China will firmly support Japan to hold the 2020 Tokyo Olympic Games, Yang said during the meeting while Abe spoke highly of China's achievements in the battle against the #COVID19 epidemic. https://t.co/27KmVBSVbr \n",
      "\n",
      "\"1233416734062891011\" Alexis Benveniste There are more than 1.8 billion videos with the hashtag #coronavirus on TikTok. \n",
      "\n",
      "The platform created a “Safety Center” page that links out to health resources. https://t.co/OTeF0RzeEe \n",
      "\n",
      "\"1233416709169610752\" China Daily Recovery rate of patients in severe condition has climbed significantly from 14 to 64 percent in #Wuhan, capital of Hubei province, the epicenter of the novel #coronavirus, senior official from the National Health Commission said on Friday. #COVID19 \n",
      "\n",
      "\"1233416697580670977\" Joanna Tan #WHO raises threat assessment of #coronavirus to 'very high' at global level @CNBC ⁦@BerkeleyJr⁩ ⁦@WillFOIA⁩  https://t.co/5NbxZBlYZN \n",
      "\n",
      "\"1233416643214221312\" Senator John Boozman I think we’re in a position to do a good job of combating the #CoronaVirus. We just don’t know what to expect as far as the full impact, but I believe we should be ready for the worst. Essentially whatever money it takes, Congress should spend that to protect the American public. \n",
      "\n",
      "\"1233416634632724481\" Finn Beales Thinking this is a fairly safe setup considering the news at the moment #coronavirus #islandlife https://t.co/fcWssaie4p \n",
      "\n",
      "\"1233416630836682752\" TD Ameritrade Network #LIVE: @Wedbush's Chris Svezia joins @NPetallides on #MorningTradeLive to talk $FL, $NKE, #coronavirus and more 👟: https://t.co/aU7ZDWl0xH \n",
      "\n",
      "\"1233416619759529989\" Marcos Breton A ban on shaking hands? As coronavirus spreads in California, U.S., it’s worth considering\n",
      "https://t.co/3t8escd7rV\n",
      "#coronavirus \n",
      "\n",
      "\"1233416595168518144\" Telegraph Business \"Not only would it be a major crisis in an election year, but a recession would be unavoidable.\"\n",
      "\n",
      "There's trouble ahead for Donald Trump if the #coronavirus grips America, writes @lizzzburden https://t.co/SHVMUfkgFR\n",
      "#CoronavirusOutbreak #Election2020 \n",
      "\n",
      "\"1233416588935749640\" The Epoch Times “She has developed and patented vaccines, including leading one of the most influential HIV vaccine trials in history.”\n",
      "\n",
      "VP @Mike_Pence announced that Deborah Birx has been appointed to serve as @WhiteHouse’s coordinator to combat the #Coronavirus. https://t.co/sPQsnLSHGF \n",
      "\n",
      "\"1233416573991477255\" WFTV Channel 9 Police offer to test #coronavirus contaminated meth | Read more: https://t.co/n3WMlmDlu1 https://t.co/WKgUytrCUT \n",
      "\n",
      "\"1233416520283381761\" Rappler JUST IN: WHO upgrades global risk of virus spread to ‘very high’ | via @AFP \n",
      "\n",
      "Story soon on https://t.co/zcta6yYg5U #coronavirus #nCoV https://t.co/uwq6Kxd0dx \n",
      "\n",
      "\"1233416519520051202\" POZ Magazine When and How to Wash Your Hands https://t.co/sf89NsMuDk #coronavirus \n",
      "\n",
      "\"1233416513585123329\" Atlanta-Fulton EMA There are currently no cases of Coronaviris 19 in Georgia. For the latest information and guidance from @FultonHealth regarding #COVID19, visit https://t.co/8DUHiBJJtP https://t.co/Zie73KjuAn \n",
      "\n",
      "\"1233416500805033984\" Northern Ireland Assembly The @healthdpt Minister has provided a new update on the Emergence of #Coronavirus (2019 NCOV) - Read More - https://t.co/0ist0J9vct https://t.co/f4Nf5P22y3 \n",
      "\n",
      "\"1233416478285676544\" LatestLY Little Girl Tries to Eat Biscuit Wearing Facemask in China, Her Perplexed Reaction Goes Viral (Watch Video) #Biscuit #China #Coronavirus https://t.co/jALJW7Wao9 \n",
      "\n",
      "\"1233416473969692672\" ABS-CBN News Channel JUST IN: Assessment of risk of spread and risk of impact of #COVID19 is now ‘very high at global level’ - WHO | via @Reuters https://t.co/nRWfXUmHeY \n",
      "\n",
      "\"1233416244923162624\" Gulf Daily News BREAKING NEWS: Two new #coronavirus cases raise total infections in #Bahrain to 38 \n",
      "\n",
      "Read more: https://t.co/RynBb3sQuz https://t.co/pQl1poEePi \n",
      "\n",
      "\"1233416165101330433\" Michael Lipin The closure of #Iran's parliament comes after several Iranian lawmakers tested positive for the #coronavirus https://t.co/RaMviWSySy \n",
      "\n",
      "\"1233416082783973382\" Daniel Roberts $ZM is a #coronavirus play. teleconferencing. https://t.co/eoxsNT6exB \n",
      "\n",
      "\"1233416030833254400\" Bill Mitchell The USA has only 60 cases of Coronavirus, ONE in serious condition, ZERO new cases in many days and just ONE death and we're shedding $$$ trillions from the stock market?\n",
      "\n",
      "5 times as many Americans died falling from ladders this week as from #Coronavirus. \n",
      "\n"
     ]
    }
   ],
   "source": [
    "query={\"Likes\":{\"$gt\":\"20\"}}\n",
    "data=collection.find()\n",
    "for i in data:\n",
    "    print(i['TweetId'],i['Name'],i['Tweet'],\"\\n\")"
   ]
  },
  {
   "cell_type": "code",
   "execution_count": 66,
   "metadata": {},
   "outputs": [
    {
     "name": "stdout",
     "output_type": "stream",
     "text": [
      "\"1233417741027225602\" Bill Mitchell I mean, Liberals are cheer-leading this #Coronavirus like it's their high school football team.\n",
      "\n",
      "#TDS \n",
      "\n",
      "\"1233417699264356357\" Helen Kennedy Under repeated questioning, Pompeo refuses to say the #COVID19 coronavirus is not a hoax.  https://t.co/PFESx4ePpD \n",
      "\n",
      "\"1233417416123834369\" Global Health Strategies “Disease can emerge everywhere. Coronaviruses exist on a global basis. It’s important that we don’t ascribe blame to a geographic origin...the languge of stigma &amp; blame has become an unfortunate part of the global narrative\" -@DrMikeRyan at @WHO briefing on #COVID19. #coronavirus https://t.co/4IIvbTdN9j \n",
      "\n",
      "\"1233416899825819648\" GMA News JUST IN: World Health Organization (WHO) upgrades global risk of #coronavirus spread to 'very high' | via @AFP https://t.co/IjKMPEie9k \n",
      "\n",
      "\"1233416780028100608\" Global Times China will firmly support Japan to hold the 2020 Tokyo Olympic Games, Yang said during the meeting while Abe spoke highly of China's achievements in the battle against the #COVID19 epidemic. https://t.co/27KmVBSVbr \n",
      "\n",
      "\"1233416588935749640\" The Epoch Times “She has developed and patented vaccines, including leading one of the most influential HIV vaccine trials in history.”\n",
      "\n",
      "VP @Mike_Pence announced that Deborah Birx has been appointed to serve as @WhiteHouse’s coordinator to combat the #Coronavirus. https://t.co/sPQsnLSHGF \n",
      "\n",
      "\"1233416520283381761\" Rappler JUST IN: WHO upgrades global risk of virus spread to ‘very high’ | via @AFP \n",
      "\n",
      "Story soon on https://t.co/zcta6yYg5U #coronavirus #nCoV https://t.co/uwq6Kxd0dx \n",
      "\n",
      "\"1233416513585123329\" Atlanta-Fulton EMA There are currently no cases of Coronaviris 19 in Georgia. For the latest information and guidance from @FultonHealth regarding #COVID19, visit https://t.co/8DUHiBJJtP https://t.co/Zie73KjuAn \n",
      "\n"
     ]
    }
   ],
   "source": [
    "query={\"Retweets\":{\"$gt\":\"200\"}}\n",
    "data=collection.find(query)\n",
    "for i in data:\n",
    "    print(i['TweetId'],i['Name'],i['Tweet'],\"\\n\")"
   ]
  },
  {
   "cell_type": "code",
   "execution_count": null,
   "metadata": {},
   "outputs": [],
   "source": []
  }
 ],
 "metadata": {
  "kernelspec": {
   "display_name": "Python 3",
   "language": "python",
   "name": "python3"
  },
  "language_info": {
   "codemirror_mode": {
    "name": "ipython",
    "version": 3
   },
   "file_extension": ".py",
   "mimetype": "text/x-python",
   "name": "python",
   "nbconvert_exporter": "python",
   "pygments_lexer": "ipython3",
   "version": "3.9.5"
  },
  "vscode": {
   "interpreter": {
    "hash": "62ec2fd006080d8bbf9bc4eba806b20eb1171df4fcb8b52834a95ebf17f1f58e"
   }
  }
 },
 "nbformat": 4,
 "nbformat_minor": 4
}
