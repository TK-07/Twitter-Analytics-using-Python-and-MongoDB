{
 "cells": [
  {
   "cell_type": "code",
   "execution_count": null,
   "metadata": {},
   "outputs": [],
   "source": [
    "import pymongo\n",
    "import json\n",
    "from pymongo import MongoClient\n",
    "\n",
    "\n",
    "client=pymongo.MongoClient('mondodb://127.0.0.1:27017/')\n",
    "mydb=client['Twitter']\n",
    "tweets=mydb.info\n",
    "\n",
    "record={\n",
    "    \"user\":\"Raj\",\n",
    "    \"tweet\": \"im feeling good\",\n",
    "    \"likes\":300,\n",
    "    \"retweets\":40\n",
    "}\n",
    "tweets.insert_one(record)\n",
    "\n",
    "\n",
    "query={\"Name\":\"Raj\"}\n",
    "print(tweets.find_one(query))\n",
    "\n",
    "\n",
    "record=[{\n",
    "    \"user\":\"Raj\",\n",
    "    \"tweet\": \"bad day\",\n",
    "    \"likes\":100,\n",
    "    \"retweets\":20\n",
    "},\n",
    "{\n",
    "    \"user\":\"tk\",\n",
    "    \"tweet\": \"im feeling good\",\n",
    "    \"likes\":3000,\n",
    "    \"retweets\":67\n",
    "},\n",
    "{\n",
    "    \"user\":\"yuvi\",\n",
    "    \"tweet\": \"good match today\",\n",
    "    \"likes\":4608,\n",
    "    \"retweets\":489\n",
    "}]\n",
    "tweets.insert_many(record)\n",
    "\n",
    "\n",
    "query={\"likes\":{\"$gt\":3000}}\n",
    "print(tweets.find_one(query))"
   ]
  }
 ],
 "metadata": {
  "kernelspec": {
   "display_name": "Python 3",
   "language": "python",
   "name": "python3"
  },
  "language_info": {
   "codemirror_mode": {
    "name": "ipython",
    "version": 3
   },
   "file_extension": ".py",
   "mimetype": "text/x-python",
   "name": "python",
   "nbconvert_exporter": "python",
   "pygments_lexer": "ipython3",
   "version": "3.9.5"
  },
  "vscode": {
   "interpreter": {
    "hash": "62ec2fd006080d8bbf9bc4eba806b20eb1171df4fcb8b52834a95ebf17f1f58e"
   }
  }
 },
 "nbformat": 4,
 "nbformat_minor": 4
}
